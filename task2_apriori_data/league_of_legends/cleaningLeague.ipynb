{
 "cells": [
  {
   "cell_type": "code",
   "execution_count": 1,
   "id": "c8abe829",
   "metadata": {},
   "outputs": [],
   "source": [
    "import pandas as pd"
   ]
  },
  {
   "cell_type": "markdown",
   "id": "09b60ca6",
   "metadata": {},
   "source": [
    "## Data files\n",
    "#### Cross-referencing from participants.csv\n",
    "- ID (cross-references the Stats table)\n",
    "- Match ID (cross-references the Matches table)\n",
    "- Player (1-5 blue team, 6-10 red team)\n",
    "- Champion ID (Check the data dragon)\n",
    "- SS1: summoner spell on D (should be Flash)\n",
    "- SS2: summoner spell on F (should not be Flash)\n",
    "- Role (SOLO for top and mid, NONE for jungle, DUO_CARRY or DUO_SUPPORT for botlane)\n",
    "- Position (bot/jungle/top/mid)"
   ]
  },
  {
   "cell_type": "code",
   "execution_count": 2,
   "id": "da748527",
   "metadata": {},
   "outputs": [
    {
     "name": "stderr",
     "output_type": "stream",
     "text": [
      "C:\\Users\\graci\\AppData\\Local\\Temp\\ipykernel_35088\\4091570180.py:5: DtypeWarning: Columns (52) have mixed types. Specify dtype option on import or set low_memory=False.\n",
      "  stats2 = pd.read_csv(\"stats2.csv\")\n"
     ]
    }
   ],
   "source": [
    "# load data files \n",
    "participants = pd.read_csv(\"participants.csv\")\n",
    "champs = pd.read_csv(\"champs.csv\")\n",
    "stats1 = pd.read_csv(\"stats1.csv\")\n",
    "stats2 = pd.read_csv(\"stats2.csv\")"
   ]
  },
  {
   "cell_type": "code",
   "execution_count": 3,
   "id": "8d801fce",
   "metadata": {},
   "outputs": [
    {
     "name": "stdout",
     "output_type": "stream",
     "text": [
      "   id  championid\n",
      "0   9          19\n",
      "1  10         267\n",
      "2  11         119\n",
      "3  12         114\n",
      "4  13         112\n"
     ]
    }
   ],
   "source": [
    "# extract only the necessary columns\n",
    "clean_parts = participants[['id', 'championid']]\n",
    "print(clean_parts.head())"
   ]
  },
  {
   "cell_type": "code",
   "execution_count": 4,
   "id": "6602412d",
   "metadata": {},
   "outputs": [
    {
     "name": "stdout",
     "output_type": "stream",
     "text": [
      "   id  championid     name\n",
      "0   9          19  Warwick\n",
      "1  28          19  Warwick\n",
      "2  41          19  Warwick\n",
      "3  55          19  Warwick\n",
      "4  61          19  Warwick\n",
      "(1834520, 3)\n"
     ]
    }
   ],
   "source": [
    "# get champion name\n",
    "comb_champs = pd.merge(clean_parts, champs, left_on='championid', right_on='id')\n",
    "comb_champs = comb_champs.iloc[:, 0:3]\n",
    "comb_champs.rename(columns = {'id_x' : 'id'}, inplace = True)\n",
    "print(comb_champs.head())\n",
    "print(comb_champs.shape)"
   ]
  },
  {
   "cell_type": "code",
   "execution_count": 5,
   "id": "1826c619",
   "metadata": {},
   "outputs": [
    {
     "name": "stdout",
     "output_type": "stream",
     "text": [
      "   id  win  item1  item2  item3  item4  item5  item6  trinket  kills  ...  \\\n",
      "0   9    0   3748   2003   3111   3053   1419   1042     3340      6  ...   \n",
      "1  10    0   2301   3111   3190   3107      0      0     3364      0  ...   \n",
      "2  11    0   1055   3072   3006   3031   3046   1036     3340      7  ...   \n",
      "3  12    0   1029   3078   3156   1001   3053      0     3340      5  ...   \n",
      "4  13    0   3020   1058   3198   3102   1052   1026     3340      2  ...   \n",
      "\n",
      "   neutralminionskilled  ownjunglekills  enemyjunglekills  totcctimedealt  \\\n",
      "0                    69              42                27             610   \n",
      "1                     1               1                 0             211   \n",
      "2                     3               1                 2             182   \n",
      "3                     6               6                 0             106   \n",
      "4                     4               3                 1             159   \n",
      "\n",
      "   champlvl  pinksbought  wardsbought  wardsplaced  wardskilled  firstblood  \n",
      "0        13            0            0           10            0           0  \n",
      "1        14            1            0           17            3           0  \n",
      "2        14            1            0           13            5           0  \n",
      "3        15            0            0            3            0           0  \n",
      "4        15            0            0           10            0           0  \n",
      "\n",
      "[5 rows x 56 columns]\n",
      "(999999, 56)\n",
      "        id  win  item1  item2  item3  item4  item5  item6  trinket  kills  \\\n",
      "0  1028382    0   1056   3001   1052   3020   1058   1026     3340      7   \n",
      "1  1028383    0   1041   2003      0      0      0      0     3340      0   \n",
      "2  1028384    0   1036   2010      0      0      0      0     3340      0   \n",
      "3  1028385    0   1055   2010      0      0      0      0     3340      0   \n",
      "4  1028386    0   2033      0      0      0      0      0     3340      0   \n",
      "\n",
      "   ...  neutralminionskilled  ownjunglekills  enemyjunglekills  \\\n",
      "0  ...                     0               0                 0   \n",
      "1  ...                    11              11                 0   \n",
      "2  ...                     0               0                 0   \n",
      "3  ...                     0               0                 0   \n",
      "4  ...                     0               0                 0   \n",
      "\n",
      "   totcctimedealt  champlvl  pinksbought  wardsbought  wardsplaced  \\\n",
      "0              50        12            0            0            6   \n",
      "1             114         3            0            0            0   \n",
      "2               0         1            0            0            0   \n",
      "3               0         2            0            0            0   \n",
      "4               0         3            0            0            0   \n",
      "\n",
      "   wardskilled  firstblood  \n",
      "0            0           0  \n",
      "1            0           0  \n",
      "2            0           0  \n",
      "3            0           0  \n",
      "4            0           0  \n",
      "\n",
      "[5 rows x 56 columns]\n",
      "(834518, 56)\n"
     ]
    }
   ],
   "source": [
    "print(stats1.head())\n",
    "print(stats1.shape)\n",
    "\n",
    "print(stats2.head())\n",
    "print(stats2.shape)"
   ]
  },
  {
   "cell_type": "code",
   "execution_count": 6,
   "id": "aa02dcd1",
   "metadata": {},
   "outputs": [
    {
     "name": "stdout",
     "output_type": "stream",
     "text": [
      "   id  win  item1  item2  item3  item4  item5  item6\n",
      "0   9    0   3748   2003   3111   3053   1419   1042\n",
      "1  10    0   2301   3111   3190   3107      0      0\n",
      "2  11    0   1055   3072   3006   3031   3046   1036\n",
      "3  12    0   1029   3078   3156   1001   3053      0\n",
      "4  13    0   3020   1058   3198   3102   1052   1026\n",
      "        id  win  item1  item2  item3  item4  item5  item6\n",
      "0  1028382    0   1056   3001   1052   3020   1058   1026\n",
      "1  1028383    0   1041   2003      0      0      0      0\n",
      "2  1028384    0   1036   2010      0      0      0      0\n",
      "3  1028385    0   1055   2010      0      0      0      0\n",
      "4  1028386    0   2033      0      0      0      0      0\n"
     ]
    }
   ],
   "source": [
    "# obtain only the necessary columns\n",
    "clean_stats1 = stats1.iloc[:, 0:8]\n",
    "clean_stats2 = stats2.iloc[:, 0:8]\n",
    "\n",
    "print(clean_stats1.head())\n",
    "print(clean_stats2.head())"
   ]
  },
  {
   "cell_type": "code",
   "execution_count": 7,
   "id": "833442cb",
   "metadata": {},
   "outputs": [
    {
     "name": "stdout",
     "output_type": "stream",
     "text": [
      "   id  win  item1  item2  item3  item4  item5  item6\n",
      "0   9    0   3748   2003   3111   3053   1419   1042\n",
      "1  10    0   2301   3111   3190   3107      0      0\n",
      "2  11    0   1055   3072   3006   3031   3046   1036\n",
      "3  12    0   1029   3078   3156   1001   3053      0\n",
      "4  13    0   3020   1058   3198   3102   1052   1026\n"
     ]
    }
   ],
   "source": [
    "# combine the stats\n",
    "comb_stats = pd.concat([clean_stats1, clean_stats2])\n",
    "print(comb_stats.head())"
   ]
  },
  {
   "cell_type": "code",
   "execution_count": 8,
   "id": "3571cd29",
   "metadata": {},
   "outputs": [
    {
     "name": "stdout",
     "output_type": "stream",
     "text": [
      "(1834520, 3)\n",
      "(999999, 8)\n",
      "(834518, 8)\n",
      "(1834517, 8)\n"
     ]
    }
   ],
   "source": [
    "# check data\n",
    "print(comb_champs.shape)\n",
    "print(clean_stats1.shape)\n",
    "print(clean_stats2.shape)\n",
    "print(comb_stats.shape)"
   ]
  },
  {
   "cell_type": "code",
   "execution_count": 9,
   "id": "c92291dc",
   "metadata": {},
   "outputs": [
    {
     "name": "stdout",
     "output_type": "stream",
     "text": [
      "   id  championid     name  win  item1  item2  item3  item4  item5  item6\n",
      "0   9          19  Warwick    0   3748   2003   3111   3053   1419   1042\n",
      "1  28          19  Warwick    1   3748   3155   3133      0   1419   3111\n",
      "2  41          19  Warwick    0   3153   1028   3077   3053   1419   3111\n",
      "3  55          19  Warwick    1   3153   3052   3077   3053   3111   1419\n",
      "4  61          19  Warwick    1   3153   3077   2003   3052   1419   3111\n",
      "(1834517, 10)\n"
     ]
    }
   ],
   "source": [
    "# merge to get the champion name & items equipped per match\n",
    "comb_champNstats = pd.merge(comb_champs, comb_stats, on='id')\n",
    "comb_champNstats.sort_values('id')\n",
    "print(comb_champNstats.head())\n",
    "print(comb_champNstats.shape)"
   ]
  },
  {
   "cell_type": "code",
   "execution_count": 10,
   "id": "a83769f0",
   "metadata": {
    "scrolled": true
   },
   "outputs": [
    {
     "name": "stdout",
     "output_type": "stream",
     "text": [
      "   item1  item2  item3  item4  item5  item6\n",
      "0   3748   2003   3111   3053   1419   1042\n",
      "1   3748   3155   3133      0   1419   3111\n",
      "2   3153   1028   3077   3053   1419   3111\n",
      "3   3153   3052   3077   3053   3111   1419\n",
      "4   3153   3077   2003   3052   1419   3111\n",
      "(1834517, 6)\n"
     ]
    }
   ],
   "source": [
    "# extract only the items\n",
    "items = comb_champNstats.iloc[:, 4:10]\n",
    "print(items.head())\n",
    "print(items.shape)"
   ]
  },
  {
   "cell_type": "code",
   "execution_count": 11,
   "id": "95e7708b",
   "metadata": {},
   "outputs": [],
   "source": [
    "# export items as a txt\n",
    "items.to_csv(r'league_updated.txt', header=None, index=None, sep=',', mode='a')"
   ]
  },
  {
   "cell_type": "code",
   "execution_count": 12,
   "id": "67d9a7e6",
   "metadata": {},
   "outputs": [
    {
     "name": "stdout",
     "output_type": "stream",
     "text": [
      "   championid     name  win  item1  item2  item3  item4  item5  item6\n",
      "0          19  Warwick    0   3748   2003   3111   3053   1419   1042\n",
      "1          19  Warwick    1   3748   3155   3133      0   1419   3111\n",
      "2          19  Warwick    0   3153   1028   3077   3053   1419   3111\n",
      "3          19  Warwick    1   3153   3052   3077   3053   3111   1419\n",
      "4          19  Warwick    1   3153   3077   2003   3052   1419   3111\n",
      "(1834517, 9)\n"
     ]
    }
   ],
   "source": [
    "# export db with items + champ name\n",
    "db = comb_champNstats.iloc[:, 1:10]\n",
    "print(db.head())\n",
    "print(db.shape)"
   ]
  },
  {
   "cell_type": "code",
   "execution_count": 13,
   "id": "e9e6c837",
   "metadata": {},
   "outputs": [],
   "source": [
    "db.to_csv(r'league_wChamps_updated.txt', header=None, index=None, sep=',', mode='a')"
   ]
  },
  {
   "cell_type": "code",
   "execution_count": 15,
   "id": "5b8dd573",
   "metadata": {},
   "outputs": [],
   "source": [
    "# map champion name to champion type for categorisation\n",
    "import os\n",
    "\n",
    "champion_classes = {\n",
    "    \"Aatrox\": \"Fighter\",\n",
    "    \"Ahri\": \"Mage\",\n",
    "    \"Akali\": \"Slayer\",\n",
    "    \"Akshan\": \"Marksman\",\n",
    "    \"Alistar\": \"Tank\",\n",
    "    \"Amumu\": \"Tank\",\n",
    "    \"Anivia\": \"Mage\",\n",
    "    \"Annie\": \"Mage\",\n",
    "    \"Aphelios\": \"Marksman\",\n",
    "    \"Ashe\": \"Marksman\",\n",
    "    \"Aurelion Sol\": \"Mage\",\n",
    "    \"Azir\": \"Specialist\",\n",
    "    \"Bard\": \"Controller\",\n",
    "    \"Bel'Veth\": \"Slayer\",\n",
    "    \"Blitzcrank\": \"Controller\",\n",
    "    \"Brand\": \"Mage\",\n",
    "    \"Braum\": \"Tank\",\n",
    "    \"Briar\": \"Fighter\",\n",
    "    \"Caitlyn\": \"Marksman\",\n",
    "    \"Camille\": \"Fighter\",\n",
    "    \"Cassiopeia\": \"Mage\",\n",
    "    \"Cho'Gath\": \"Specialist\",\n",
    "    \"Corki\": \"Marksman\",\n",
    "    \"Darius\": \"Fighter\",\n",
    "    \"Diana\": \"Slayer\",\n",
    "    \"Dr. Mundo\": \"Fighter\",\n",
    "    \"Draven\": \"Marksman\",\n",
    "    \"Ekko\": \"Slayer\",\n",
    "    \"Elise\": \"Fighter\",\n",
    "    \"Evelynn\": \"Slayer\",\n",
    "    \"Ezreal\": \"Marksman\",\n",
    "    \"Fiddlesticks\": \"Specialist\",\n",
    "    \"Fiora\": \"Slayer\",\n",
    "    \"Fizz\": \"Slayer\",\n",
    "    \"Galio\": \"Tank\",\n",
    "    \"Gangplank\": \"Specialist\",\n",
    "    \"Garen\": \"Fighter\",\n",
    "    \"Gnar\": \"Specialist\",\n",
    "    \"Gragas\": \"Tank\",\n",
    "    \"Graves\": \"Specialist\",\n",
    "    \"Gwen\": \"Slayer\",\n",
    "    \"Hecarim\": \"Fighter\",\n",
    "    \"Heimerdinger\": \"Specialist\",\n",
    "    \"Illaoi\": \"Fighter\",\n",
    "    \"Irelia\": \"Fighter\",\n",
    "    \"Ivern\": \"Controller\",\n",
    "    \"Janna\": \"Controller\",\n",
    "    \"Jarvan IV\": \"Fighter\",\n",
    "    \"Jax\": \"Slayer\",\n",
    "    \"Jayce\": \"Mage\",\n",
    "    \"Jhin\": \"Marksman\",\n",
    "    \"Jinx\": \"Marksman\",\n",
    "    \"K'Sante\": \"Tank\",\n",
    "    \"Kai'Sa\": \"Marksman\",\n",
    "    \"Kalista\": \"Marksman\",\n",
    "    \"Karma\": \"Mage\",\n",
    "    \"Karthus\": \"Mage\",\n",
    "    \"Kassadin\": \"Slayer\",\n",
    "    \"Katarina\": \"Slayer\",\n",
    "    \"Kayle\": \"Specialist\",\n",
    "    \"Kayn\": \"Slayer\",\n",
    "    \"Kennen\": \"Specialist\",\n",
    "    \"Kha'Zix\": \"Slayer\",\n",
    "    \"Kindred\": \"Marksman\",\n",
    "    \"Kled\": \"Slayer\",\n",
    "    \"Kog'Maw\": \"Marksman\",\n",
    "    \"LeBlanc\": \"Mage\",\n",
    "    \"Lee Sin\": \"Fighter\",\n",
    "    \"Leona\": \"Tank\",\n",
    "    \"Lillia\": \"Slayer\",\n",
    "    \"Lissandra\": \"Mage\",\n",
    "    \"Lucian\": \"Marksman\",\n",
    "    \"Lulu\": \"Controller\",\n",
    "    \"Lux\": \"Mage\",\n",
    "    \"Malphite\": \"Tank\",\n",
    "    \"Malzahar\": \"Mage\",\n",
    "    \"Maokai\": \"Tank\",\n",
    "    \"Master Yi\": \"Slayer\",\n",
    "    \"Milio\": \"Controller\",\n",
    "    \"Miss Fortune\": \"Marksman\",\n",
    "    \"Mordekaiser\": \"Fighter\",\n",
    "    \"Morgana\": \"Controller\",\n",
    "    \"Naafiri\": \"Slayer\",\n",
    "    \"Nami\": \"Controller\",\n",
    "    \"Nasus\": \"Fighter\",\n",
    "    \"Nautilus\": \"Tank\",\n",
    "    \"Neeko\": \"Mage\",\n",
    "    \"Nidalee\": \"Specialist\",\n",
    "    \"Nilah\": \"Slayer\",\n",
    "    \"Nocturne\": \"Slayer\",\n",
    "    \"Nunu & Willump\": \"Tank\",\n",
    "    \"Olaf\": \"Fighter\",\n",
    "    \"Orianna\": \"Mage\",\n",
    "    \"Ornn\": \"Tank\",\n",
    "    \"Pantheon\": \"Fighter\",\n",
    "    \"Poppy\": \"Tank\",\n",
    "    \"Pyke\": \"Slayer\",\n",
    "    \"Qiyana\": \"Slayer\",\n",
    "    \"Quinn\": \"Specialist\",\n",
    "    \"Rakan\": \"Controller\",\n",
    "    \"Rammus\": \"Tank\",\n",
    "    \"Rek'Sai\": \"Fighter\",\n",
    "    \"Rell\": \"Tank\",\n",
    "    \"Renata Glasc\": \"Controller\",\n",
    "    \"Renekton\": \"Fighter\",\n",
    "    \"Rengar\": \"Slayer\",\n",
    "    \"Riven\": \"Slayer\",\n",
    "    \"Rumble\": \"Mage\",\n",
    "    \"Ryze\": \"Mage\",\n",
    "    \"Samira\": \"Marksman\",\n",
    "    \"Sejuani\": \"Tank\",\n",
    "    \"Senna\": \"Marksman\",\n",
    "    \"Seraphine\": \"Mage\",\n",
    "    \"Sett\": \"Fighter\",\n",
    "    \"Shaco\": \"Slayer\",\n",
    "    \"Shen\": \"Tank\",\n",
    "    \"Shyvana\": \"Fighter\",\n",
    "    \"Singed\": \"Specialist\",\n",
    "    \"Sion\": \"Tank\",\n",
    "    \"Sivir\": \"Marksman\",\n",
    "    \"Skarner\": \"Fighter\",\n",
    "    \"Sona\": \"Controller\",\n",
    "    \"Soraka\": \"Controller\",\n",
    "    \"Swain\": \"Mage\",\n",
    "    \"Sylas\": \"Mage\",\n",
    "    \"Syndra\": \"Mage\",\n",
    "    \"Tahm Kench\": \"Tank\",\n",
    "    \"Taliyah\": \"Mage\",\n",
    "    \"Talon\": \"Slayer\",\n",
    "    \"Taric\": \"Controller\",\n",
    "    \"Teemo\": \"Specialist\",\n",
    "    \"Thresh\": \"Controller\",\n",
    "    \"Tristana\": \"Marksman\",\n",
    "    \"Trundle\": \"Fighter\",\n",
    "    \"Tryndamere\": \"Slayer\",\n",
    "    \"Twisted Fate\": \"Mage\",\n",
    "    \"Twitch\": \"Marksman\",\n",
    "    \"Udyr\": \"Fighter\",\n",
    "    \"Urgot\": \"Fighter\",\n",
    "    \"Varus\": \"Marksman\",\n",
    "    \"Vayne\": \"Marksman\",\n",
    "    \"Veigar\": \"Mage\",\n",
    "    \"Vel'Koz\": \"Mage\",\n",
    "    \"Vex\": \"Mage\",\n",
    "    \"Vi\": \"Fighter\",\n",
    "    \"Viego\": \"Slayer\",\n",
    "    \"Viktor\": \"Mage\",\n",
    "    \"Vladimir\": \"Mage\",\n",
    "    \"Volibear\": \"Fighter\",\n",
    "    \"Warwick\": \"Fighter\",\n",
    "    \"Wukong\": \"Fighter\",\n",
    "    \"Xayah\": \"Marksman\",\n",
    "    \"Xerath\": \"Mage\",\n",
    "    \"Xin Zhao\": \"Fighter\",\n",
    "    \"Yasuo\": \"Slayer\",\n",
    "    \"Yone\": \"Slayer\",\n",
    "    \"Yorick\": \"Fighter\",\n",
    "    \"Yuumi\": \"Controller\",\n",
    "    \"Zac\": \"Tank\",\n",
    "    \"Zed\": \"Slayer\",\n",
    "    \"Ziggs\": \"Mage\",\n",
    "    \"Zilean\": \"Controller\",\n",
    "    \"Zoe\": \"Mage\",\n",
    "    \"Zyra\": \"Mage\",\n",
    "}\n",
    "\n",
    "# Function to get the class of a champion\n",
    "def get_champion_class(champion_name):\n",
    "    return champion_classes.get(champion_name, 'Unknown')\n",
    "\n",
    "# Read the text file and process each line\n",
    "with open('./league_wChamps_updated.txt', 'r') as file:\n",
    "    lines = file.readlines()\n",
    "\n",
    "output_lines = []\n",
    "for line in lines:\n",
    "    # Split the line into individual values\n",
    "    values = line.strip().split(',')\n",
    "\n",
    "    # Extract champion name from the second column\n",
    "    champion_name = values[1]\n",
    "\n",
    "    # Get the champion class from the dictionary\n",
    "    champion_class = get_champion_class(champion_name)\n",
    "\n",
    "    # Append the champion class after the champion's name\n",
    "    values[1] = champion_class\n",
    "\n",
    "    # Join the values back into a comma-separated string\n",
    "    updated_line = ','.join(values)\n",
    "\n",
    "    # Append the updated line to the output list\n",
    "    output_lines.append(updated_line)\n",
    "\n",
    "\n",
    "output_file_path = 'updated_league_with_class.txt'\n",
    "# Create the full file path\n",
    "# Get the current working directory\n",
    "current_directory = os.getcwd()\n",
    "# output_file_path = current_directory + output_file_path\n",
    "with open(output_file_path, 'w') as output_file:\n",
    "    for updated_line in output_lines:\n",
    "        output_file.write(updated_line + '\\n')"
   ]
  },
  {
   "cell_type": "code",
   "execution_count": null,
   "id": "4d270977",
   "metadata": {},
   "outputs": [],
   "source": []
  },
  {
   "cell_type": "markdown",
   "id": "c7d56401",
   "metadata": {},
   "source": [
    "## REMOVING '0,'s"
   ]
  },
  {
   "cell_type": "code",
   "execution_count": 1,
   "id": "d0cfecd3",
   "metadata": {},
   "outputs": [
    {
     "name": "stdout",
     "output_type": "stream",
     "text": [
      "Filtering completed. Filtered data saved to league_filtered.txt\n"
     ]
    }
   ],
   "source": [
    "input_file_path = \"league_updated.txt\"\n",
    "output_file_path = \"league_filtered.txt\"\n",
    "\n",
    "with open(input_file_path, \"r\") as input_file, open(output_file_path, \"w\") as output_file:\n",
    "    for line in input_file:\n",
    "        # Split the line into a list of values\n",
    "        values = line.strip().split(',')\n",
    "\n",
    "        # Remove elements containing '0'\n",
    "        filtered_values = [value for value in values if value != '0']\n",
    "\n",
    "        # Join the filtered values and write them to the output file\n",
    "        output_line = ','.join(filtered_values)\n",
    "        output_file.write(output_line + '\\n')\n",
    "\n",
    "print(f\"Filtering completed. Filtered data saved to {output_file_path}\")\n"
   ]
  },
  {
   "cell_type": "code",
   "execution_count": 3,
   "id": "4051f6c6",
   "metadata": {},
   "outputs": [
    {
     "name": "stdout",
     "output_type": "stream",
     "text": [
      "Filtering completed. Filtered data saved to league_with_class_filtered.txt\n"
     ]
    }
   ],
   "source": [
    "input_file_path = \"updated_league_with_class.txt\"\n",
    "output_file_path = \"league_with_class_filtered.txt\"\n",
    "\n",
    "with open(input_file_path, \"r\") as input_file, open(output_file_path, \"w\") as output_file:\n",
    "    for line in input_file:\n",
    "        # Split the line into a list of values\n",
    "        values = line.strip().split(',')\n",
    "\n",
    "        # Remove '0' from the 4th item onwards\n",
    "        filtered_values = [value if i < 3 or value != '0' else '' for i, value in enumerate(values)]\n",
    "\n",
    "        # Filter out empty values and join the remaining values\n",
    "        output_line = ','.join(filter(None, filtered_values))\n",
    "        output_file.write(output_line + '\\n')\n",
    "\n",
    "print(f\"Filtering completed. Filtered data saved to {output_file_path}\")"
   ]
  },
  {
   "cell_type": "code",
   "execution_count": null,
   "id": "ee2d4fb1",
   "metadata": {},
   "outputs": [],
   "source": []
  },
  {
   "cell_type": "code",
   "execution_count": null,
   "id": "361728b0",
   "metadata": {},
   "outputs": [],
   "source": []
  },
  {
   "cell_type": "markdown",
   "id": "587169e3",
   "metadata": {},
   "source": [
    "-------\n",
    "# [nope / obsolete] Attempts to get Item Name\n",
    "## SELENIUM ITEM TYPE\n",
    "\n",
    "This idea was eventually cancelled as we were unable to map all the items in the League database with the item_ids and names found online. We suspect that the item_ids within the Kaggle League dataset were potentially modified / became obsolete as the game evolved over the years. Since the mapping was unsuccessful and created inconsistent data, we stopped this idea and proceeded with simply using item_ids alone.\n",
    "<br>\n"
   ]
  },
  {
   "cell_type": "code",
   "execution_count": 11,
   "id": "8f6a1f43",
   "metadata": {},
   "outputs": [
    {
     "name": "stdout",
     "output_type": "stream",
     "text": [
      "Defaulting to user installation because normal site-packages is not writeableNote: you may need to restart the kernel to use updated packages.\n"
     ]
    },
    {
     "name": "stderr",
     "output_type": "stream",
     "text": [
      "\n",
      "[notice] A new release of pip is available: 23.2.1 -> 23.3.1\n",
      "[notice] To update, run: python.exe -m pip install --upgrade pip\n"
     ]
    },
    {
     "name": "stdout",
     "output_type": "stream",
     "text": [
      "\n",
      "Requirement already satisfied: selenium in c:\\users\\graci\\appdata\\roaming\\python\\python310\\site-packages (4.14.0)\n",
      "Requirement already satisfied: urllib3[socks]<3,>=1.26 in c:\\programdata\\anaconda3\\lib\\site-packages (from selenium) (1.26.14)\n",
      "Requirement already satisfied: trio~=0.17 in c:\\users\\graci\\appdata\\roaming\\python\\python310\\site-packages (from selenium) (0.22.2)\n",
      "Requirement already satisfied: trio-websocket~=0.9 in c:\\users\\graci\\appdata\\roaming\\python\\python310\\site-packages (from selenium) (0.11.1)\n",
      "Requirement already satisfied: certifi>=2021.10.8 in c:\\programdata\\anaconda3\\lib\\site-packages (from selenium) (2022.12.7)\n",
      "Requirement already satisfied: attrs>=20.1.0 in c:\\programdata\\anaconda3\\lib\\site-packages (from trio~=0.17->selenium) (22.1.0)\n",
      "Requirement already satisfied: sortedcontainers in c:\\programdata\\anaconda3\\lib\\site-packages (from trio~=0.17->selenium) (2.4.0)\n",
      "Requirement already satisfied: idna in c:\\programdata\\anaconda3\\lib\\site-packages (from trio~=0.17->selenium) (3.4)\n",
      "Requirement already satisfied: outcome in c:\\users\\graci\\appdata\\roaming\\python\\python310\\site-packages (from trio~=0.17->selenium) (1.3.0.post0)\n",
      "Requirement already satisfied: sniffio in c:\\programdata\\anaconda3\\lib\\site-packages (from trio~=0.17->selenium) (1.2.0)\n",
      "Requirement already satisfied: cffi>=1.14 in c:\\programdata\\anaconda3\\lib\\site-packages (from trio~=0.17->selenium) (1.15.1)\n",
      "Requirement already satisfied: exceptiongroup>=1.0.0rc9 in c:\\users\\graci\\appdata\\roaming\\python\\python310\\site-packages (from trio~=0.17->selenium) (1.1.3)\n",
      "Requirement already satisfied: wsproto>=0.14 in c:\\users\\graci\\appdata\\roaming\\python\\python310\\site-packages (from trio-websocket~=0.9->selenium) (1.2.0)\n",
      "Requirement already satisfied: PySocks!=1.5.7,<2.0,>=1.5.6 in c:\\programdata\\anaconda3\\lib\\site-packages (from urllib3[socks]<3,>=1.26->selenium) (1.7.1)\n",
      "Requirement already satisfied: pycparser in c:\\programdata\\anaconda3\\lib\\site-packages (from cffi>=1.14->trio~=0.17->selenium) (2.21)\n",
      "Requirement already satisfied: h11<1,>=0.9.0 in c:\\users\\graci\\appdata\\roaming\\python\\python310\\site-packages (from wsproto>=0.14->trio-websocket~=0.9->selenium) (0.14.0)\n"
     ]
    }
   ],
   "source": [
    "pip install selenium"
   ]
  },
  {
   "cell_type": "code",
   "execution_count": 12,
   "id": "9345ebdf",
   "metadata": {},
   "outputs": [],
   "source": [
    "from selenium import webdriver\n",
    "from selenium.webdriver.firefox.options import Options\n",
    "from selenium.webdriver.common.by import By\n",
    "from selenium.webdriver.common.keys import Keys\n",
    "import time\n",
    "\n",
    "firefox_options = Options()\n",
    "\n",
    "firefox_options.headless = False   # Set to True if you want the browser to run in the background\n",
    "\n",
    "# Initialize the Chrome WebDriver\n",
    "driver = webdriver.Firefox(options=firefox_options)\n",
    "\n",
    "url = 'https://darkintaqt.com/blog/item-ids'\n",
    "driver.get(url)\n",
    "\n",
    "# Wait for the page to load (you may need to adjust the waiting time)\n",
    "time.sleep(10)\n",
    "\n",
    "# elements = driver.find_elements(By.XPATH, '//*')\n",
    "\n",
    "# for element in elements:\n",
    "#     print(element.get_attribute(\"outerHTML\"))\n",
    "\n",
    "# driver.quit()\n",
    "\n",
    "# Find all elements containing item IDs and names\n",
    "items = driver.find_elements(By.CLASS_NAME, 'table')"
   ]
  },
  {
   "cell_type": "code",
   "execution_count": 13,
   "id": "8ce165f5",
   "metadata": {},
   "outputs": [
    {
     "name": "stdout",
     "output_type": "stream",
     "text": [
      "<selenium.webdriver.remote.webelement.WebElement (session=\"6baa9daa-178e-4052-968e-7b5be108b327\", element=\"760fc1ea-4c49-43a4-9d4b-9e4fcef94097\")>\n",
      "Item ID: 1001, Item Name: 1001\n"
     ]
    }
   ],
   "source": [
    "# info_element = [x.text for x in items]\n",
    "# print(info_element)\n",
    "\n",
    "    \n",
    "# Create lists to store the scraped data\n",
    "item_ids = []\n",
    "item_names = []\n",
    "\n",
    "# Iterate through the elements and extract data\n",
    "for item in items:\n",
    "    print(item)\n",
    "    # Extract item ID\n",
    "    item_id = item.find_element(By.TAG_NAME, 'td').text\n",
    "    # Extract item name\n",
    "    item_name = item.find_element(By.TAG_NAME, 'td').text\n",
    "\n",
    "    item_ids.append(item_id)\n",
    "    item_names.append(item_name)\n",
    "\n",
    "# Print the scraped data\n",
    "for i in range(len(item_ids)):\n",
    "    print(f\"Item ID: {item_ids[i]}, Item Name: {item_names[i]}\")\n",
    "    \n",
    "driver.quit()"
   ]
  },
  {
   "cell_type": "code",
   "execution_count": 14,
   "id": "823a74d3",
   "metadata": {},
   "outputs": [
    {
     "name": "stdout",
     "output_type": "stream",
     "text": [
      "Data has been written to item_data.csv\n"
     ]
    }
   ],
   "source": [
    "import re\n",
    "import csv\n",
    "\n",
    "text = \"\"\"\n",
    "[\"ID Icon Name\\n1001 Boots\\n1004 Faerie Charm\\n1006 Rejuvenation Bead\\n1011 Giant's Belt\\n1018 Cloak of Agility\\n1026 Blasting Wand\\n1027 Sapphire Crystal\\n1028 Ruby Crystal\\n1029 Cloth Armor\\n1031 Chain Vest\\n1033 Null-Magic Mantle\\n1035 Emberknife\\n1036 Long Sword\\n1037 Pickaxe\\n1038 B. F. Sword\\n1039 Hailblade\\n1040 Obsidian Edge\\n1042 Dagger\\n1043 Recurve Bow\\n1052 Amplifying Tome\\n1053 Vampiric Scepter\\n1054 Doran's Shield\\n1055 Doran's Blade\\n1056 Doran's Ring\\n1057 Negatron Cloak\\n1058 Needlessly Large Rod\\n1082 Dark Seal\\n1083 Cull\\n1101 Scorchclaw Pup\\n1102 Gustwalker Hatchling\\n1103 Mosstomper Seedling\\n1104 Eye of the Herald\\n1500 Penetrating Bullets\\n1501 Fortification\\n1502 Reinforced Armor\\n1503 Warden's Eye\\n1504 Vanguard\\n1506 Reinforced Armor\\n1507 Overcharged\\n1508 Anti-tower Socks\\n1509 Gusto\\n1510 Phreakish Gusto\\n1511 Super Mech Armor\\n1512 Super Mech Power Field\\n1515 Turret Plating\\n1516 Structure Bounty\\n1517 Structure Bounty\\n1518 Structure Bounty\\n1519 Structure Bounty\\n1520 OvererchargedHA\\n1521 Fortification\\n1522 Tower Power-Up\\n2003 Health Potion\\n2010 Total Biscuit of Everlasting Will\\n2015 Kircheis Shard\\n2019 Steel Sigil\\n2031 Refillable Potion\\n2033 Corrupting Potion\\n2049 Guardian's Amulet\\n2050 Guardian's Shroud\\n2051 Guardian's Horn\\n2052 Poro-Snax\\n2055 Control Ward\\n2065 Shurelya's Battlesong\\n2138 Elixir of Iron\\n2139 Elixir of Sorcery\\n2140 Elixir of Wrath\\n2141 Cappa Juice\\n2142 Juice of Power\\n2143 Juice of Vitality\\n2144 Juice of Haste\\n222051 Guardian's Horn\\n222065 Shurelya's Battlesong\\n223001 Evenshroud\\n223003 Archangel's Staff\\n223004 Manamune\\n223005 Ghostcrawlers\\n223006 Berserker's Greaves\\n223009 Boots of Swiftness\\n223011 Chemtech Putrifier\\n223020 Sorcerer's Shoes\\n223026 Guardian Angel\\n223031 Infinity Edge\\n223033 Mortal Reminder\\n223036 Lord Dominik's Regards\\n223039 Atma's Reckoning\\n223040 Seraph's Embrace\\n223042 Muramana\\n223046 Phantom Dancer\\n223047 Plated Steelcaps\\n223050 Zeke's Convergence\\n223053 Sterak's Gage\\n223065 Spirit Visage\\n223068 Sunfire Aegis\\n223071 Black Cleaver\\n223072 Bloodthirster\\n223074 Ravenous Hydra\\n223075 Thornmail\\n223078 Trinity Force\\n223084 Heartsteel\\n223085 Runaan's Hurricane\\n223087 Statikk Shiv\\n223089 Rabadon's Deathcap\\n223091 Wit's End\\n223094 Rapid Firecannon\\n223095 Stormrazor\\n223100 Lich Bane\\n223102 Banshee's Veil\\n223107 Redemption\\n223109 Knight's Vow\\n223110 Frozen Heart\\n223111 Mercury's Treads\\n223112 Guardian's Orb\\n223115 Nashor's Tooth\\n223116 Rylai's Crystal Scepter\\n223119 Winter's Approach\\n223121 Fimbulwinter\\n223124 Guinsoo's Rageblade\\n223135 Void Staff\\n223139 Mercurial Scimitar\\n223142 Youmuu's Ghostblade\\n223143 Randuin's Omen\\n223146 Hextech Gunblade\\n223152 Hextech Rocketbelt\\n223153 Blade of The Ruined King\\n223156 Maw of Malmortius\\n223157 Zhonya's Hourglass\\n223158 Ionian Boots of Lucidity\\n223161 Spear of Shojin\\n223165 Morellonomicon\\n223172 Zephyr\\n223177 Guardian's Blade\\n223181 Hullbreaker\\n223184 Guardian's Hammer\\n223185 Guardian's Dirk\\n223190 Locket of the Iron Solari\\n223193 Gargoyle Stoneplate\\n223222 Mikael's Blessing\\n223504 Ardent Censer\\n223508 Essence Reaver\\n223742 Dead Man's Plate\\n223748 Titanic Hydra\\n223814 Edge of Night\\n224004 Spectral Cutlass\\n224005 Imperial Mandate\\n224401 Force of Nature\\n224403 The Golden Spatula\\n224628 Horizon Focus\\n224629 Cosmic Drive\\n224633 Riftmaker\\n224636 Night Harvester\\n224637 Demonic Embrace\\n224644 Crown of the Shattered Queen\\n224645 Shadowflame\\n226035 Silvermere Dawn\\n226333 Death's Dance\\n226609 Chempunk Chainsword\\n226616 Staff of Flowing Water\\n226617 Moonstone Renewer\\n226620 Echoes of Helia\\n226630 Goredrinker\\n226631 Stridebreaker\\n226632 Divine Sunderer\\n226653 Liandry's Anguish\\n226655 Luden's Tempest\\n226656 Everfrost\\n226657 Rod of Ages\\n226662 Iceborn Gauntlet\\n226664 Turbo Chemtank\\n226665 Jak'Sho, The Protean\\n226667 Radiant Virtue\\n226671 Galeforce\\n226672 Kraken Slayer\\n226673 Immortal Shieldbow\\n226675 Navori Quickblades\\n226676 The Collector\\n226691 Duskblade of Draktharr\\n226692 Eclipse\\n226693 Prowler's Claw\\n226694 Serylda's Grudge\\n226695 Serpent's Fang\\n226696 Axiom Arc\\n227001 Syzygy\\n227002 Draktharr's Shadowcarver\\n227005 Frozen Fist\\n227006 Typhoon\\n227009 Icathia's Curse\\n227010 Vespertide\\n227011 Upgraded Aeropack\\n227012 Liandry's Lament\\n227013 Eye of Luden\\n227014 Eternal Winter\\n227015 Ceaseless Hunger\\n227016 Dreamshatter\\n227017 Deicide\\n227018 Infinity Force\\n227019 Reliquary of the Golden Dawn\\n227020 Shurelya's Requiem\\n227021 Starcaster\\n227023 Equinox\\n227024 Caesura\\n227025 Leviathan\\n227026 The Unspoken Parasite\\n227027 Primordial Dawn\\n227028 Infinite Convergence\\n227029 Youmuu's Wake\\n227030 Seething Sorrow\\n227031 Edge of Finality\\n227032 Flicker\\n227033 Cry of the Shrieking City\\n228001 Anathema's Chains\\n228020 Abyssal Mask\\n2403 Minion Dematerializer\\n2419 Commencing Stopwatch\\n2420 Stopwatch\\n2421 Broken Stopwatch\\n2422 Slightly Magical Footwear\\n2423 Perfectly Timed Stopwatch\\n2424 Broken Stopwatch\\n3001 Evenshroud\\n3003 Archangel's Staff\\n3004 Manamune\\n3005 Ghostcrawlers\\n3006 Berserker's Greaves\\n3009 Boots of Swiftness\\n3011 Chemtech Putrifier\\n3012 Chalice of Blessing\\n3020 Sorcerer's Shoes\\n3023 Lifewell Pendant\\n3024 Glacial Buckler\\n3026 Guardian Angel\\n3031 Infinity Edge\\n3033 Mortal Reminder\\n3035 Last Whisper\\n3036 Lord Dominik's Regards\\n3039 Atma's Reckoning\\n3040 Seraph's Embrace\\n3041 Mejai's Soulstealer\\n3042 Muramana\\n3044 Phage\\n3046 Phantom Dancer\\n3047 Plated Steelcaps\\n3050 Zeke's Convergence\\n3051 Hearthbound Axe\\n3053 Sterak's Gage\\n3057 Sheen\\n3065 Spirit Visage\\n3066 Winged Moonplate\\n3067 Kindlegem\\n3068 Sunfire Aegis\\n3070 Tear of the Goddess\\n3071 Black Cleaver\\n3072 Bloodthirster\\n3074 Ravenous Hydra\\n3075 Thornmail\\n3076 Bramble Vest\\n3077 Tiamat\\n3078 Trinity Force\\n3082 Warden's Mail\\n3083 Warmog's Armor\\n3084 Heartsteel\\n3085 Runaan's Hurricane\\n3086 Zeal\\n3087 Statikk Shiv\\n3089 Rabadon's Deathcap\\n3091 Wit's End\\n3094 Rapid Firecannon\\n3095 Stormrazor\\n3100 Lich Bane\\n3102 Banshee's Veil\\n3105 Aegis of the Legion\\n3107 Redemption\\n3108 Fiendish Codex\\n3109 Knight's Vow\\n3110 Frozen Heart\\n3111 Mercury's Treads\\n3112 Guardian's Orb\\n3113 Aether Wisp\\n3114 Forbidden Idol\\n3115 Nashor's Tooth\\n3116 Rylai's Crystal Scepter\\n3117 Mobility Boots\\n3119 Winter's Approach\\n3121 Fimbulwinter\\n3123 Executioner's Calling\\n3124 Guinsoo's Rageblade\\n3128 Deathfire Grasp\\n3131 Sword of the Divine\\n3133 Caulfield's Warhammer\\n3134 Serrated Dirk\\n3135 Void Staff\\n3139 Mercurial Scimitar\\n3140 Quicksilver Sash\\n3142 Youmuu's Ghostblade\\n3143 Randuin's Omen\\n3145 Hextech Alternator\\n3146 Hextech Gunblade\\n3152 Hextech Rocketbelt\\n3153 Blade of The Ruined King\\n3155 Hexdrinker\\n3156 Maw of Malmortius\\n3157 Zhonya's Hourglass\\n3158 Ionian Boots of Lucidity\\n3161 Spear of Shojin\\n3165 Morellonomicon\\n3172 Zephyr\\n3177 Guardian's Blade\\n3179 Umbral Glaive\\n3181 Hullbreaker\\n3184 Guardian's Hammer\\n3190 Locket of the Iron Solari\\n3191 Seeker's Armguard\\n3193 Gargoyle Stoneplate\\n3211 Spectre's Cowl\\n3222 Mikael's Blessing\\n3330 Scarecrow Effigy\\n3340 Stealth Ward\\n3348 Arcane Sweeper\\n3349 Lucent Singularity\\n3363 Farsight Alteration\\n3364 Oracle Lens\\n3400 Your Cut\\n3430 Rite Of Ruin\\n3504 Ardent Censer\\n3508 Essence Reaver\\n3513 Eye of the Herald\\n3599 Kalista's Black Spear\\n3600 Kalista's Black Spear\\n3742 Dead Man's Plate\\n3748 Titanic Hydra\\n3801 Crystalline Bracer\\n3802 Lost Chapter\\n3803 Catalyst of Aeons\\n3814 Edge of Night\\n3850 Spellthief's Edge\\n3851 Frostfang\\n3853 Shard of True Ice\\n3854 Steel Shoulderguards\\n3855 Runesteel Spaulders\\n3857 Pauldrons of Whiterock\\n3858 Relic Shield\\n3859 Targon's Buckler\\n3860 Bulwark of the Mountain\\n3862 Spectral Sickle\\n3863 Harrowing Crescent\\n3864 Black Mist Scythe\\n3901 Fire at Will\\n500 Silver Serpents\\n3902 Death's Daughter\\n500 Silver Serpents\\n3903 Raise Morale\\n500 Silver Serpents\\n3916 Oblivion Orb\\n4003 Lifeline\\n4004 Spectral Cutlass\\n4005 Imperial Mandate\\n4010 Bloodletter's Curse\\n4401 Force of Nature\\n4402 Innervating Locket\\n4403 The Golden Spatula\\n4628 Horizon Focus\\n4629 Cosmic Drive\\n4630 Blighting Jewel\\n4632 Verdant Barrier\\n4633 Riftmaker\\n4635 Leeching Leer\\n4636 Night Harvester\\n4637 Demonic Embrace\\n4638 Watchful Wardstone\\n4641 Stirring Wardstone\\n4642 Bandleglass Mirror\\n4643 Vigilant Wardstone\\n4644 Crown of the Shattered Queen\\n4645 Shadowflame\\n6029 Ironspike Whip\\n6035 Silvermere Dawn\\n6333 Death's Dance\\n6609 Chempunk Chainsword\\n6616 Staff of Flowing Water\\n6617 Moonstone Renewer\\n6620 Echoes of Helia\\n6630 Goredrinker\\n6631 Stridebreaker\\n6632 Divine Sunderer\\n6653 Liandry's Anguish\\n6655 Luden's Tempest\\n6656 Everfrost\\n6657 Rod of Ages\\n6660 Bami's Cinder\\n6662 Iceborn Gauntlet\\n6664 Turbo Chemtank\\n6665 Jak'Sho, The Protean\\n6667 Radiant Virtue\\n6670 Noonquiver\\n6671 Galeforce\\n6672 Kraken Slayer\\n6673 Immortal Shieldbow\\n6675 Navori Quickblades\\n6676 The Collector\\n6677 Rageknife\\n6691 Duskblade of Draktharr\\n6692 Eclipse\\n6693 Prowler's Claw\\n6694 Serylda's Grudge\\n6695 Serpent's Fang\\n6696 Axiom Arc\\n7000 Sandshrike's Claw\\n7001 Syzygy\\n7002 Draktharr's Shadowcarver\\n7005 Frozen Fist\\n7006 Typhoon\\n7009 Icathia's Curse\\n7010 Vespertide\\n7011 Upgraded Aeropack\\n7012 Liandry's Lament\\n7013 Eye of Luden\\n7014 Eternal Winter\\n7015 Ceaseless Hunger\\n7016 Dreamshatter\\n7017 Deicide\\n7018 Infinity Force\\n7019 Reliquary of the Golden Dawn\\n7020 Shurelya's Requiem\\n7021 Starcaster\\n7023 Equinox\\n7024 Caesura\\n7025 Leviathan\\n7026 The Unspoken Parasite\\n7027 Primordial Dawn\\n7028 Infinite Convergence\\n7029 Youmuu's Wake\\n7030 Seething Sorrow\\n7031 Edge of Finality\\n7032 Flicker\\n7033 Cry of the Shrieking City\\n7050 Gangplank Placeholder\\n8001 Anathema's Chains\\n8020 Abyssal Mask\"]\n",
    "\"\"\"\n",
    "\n",
    "# Remove the brackets, leading/trailing whitespace, and split into lines\n",
    "lines = text.strip(\"[]\").strip().split('\\n')\n",
    "\n",
    "# Initialize lists to store item IDs and names\n",
    "item_ids = []\n",
    "item_names = []\n",
    "\n",
    "# Skip the first line (header)\n",
    "for line in lines[1:]:\n",
    "    # Split the line into ID and name\n",
    "    item_id, item_name = line.split(None, 1)\n",
    "    item_ids.append(item_id)\n",
    "    item_names.append(item_name)\n",
    "\n",
    "# # Print the extracted item IDs and names\n",
    "# for item_id, item_name in zip(item_ids, item_names):\n",
    "#     print(f\"Item ID: {item_id}, Item Name: {item_name}\")\n",
    "    \n",
    "    \n",
    "# Write the data to a CSV file\n",
    "output_file = 'item_data.csv'\n",
    "\n",
    "with open(output_file, mode='w', newline='') as file:\n",
    "    writer = csv.writer(file)\n",
    "    writer.writerow(['item_id', 'item_name'])  # Write the header\n",
    "\n",
    "    for item_id, item_name in zip(item_ids, item_names):\n",
    "        writer.writerow([item_id, item_name])\n",
    "\n",
    "print(f\"Data has been written to {output_file}\")\n"
   ]
  },
  {
   "cell_type": "code",
   "execution_count": 23,
   "id": "8af0cd27",
   "metadata": {},
   "outputs": [
    {
     "name": "stdout",
     "output_type": "stream",
     "text": [
      "   item_id          item_name\n",
      "0     1001              Boots\n",
      "1     1004       Faerie Charm\n",
      "2     1006  Rejuvenation Bead\n",
      "3     1011       Giant's Belt\n",
      "4     1018   Cloak of Agility\n",
      "(439, 2)\n"
     ]
    }
   ],
   "source": [
    "itemnames = pd.read_csv(\"item_data.csv\")\n",
    "print(itemnames.head())\n",
    "print(itemnames.shape)"
   ]
  },
  {
   "cell_type": "code",
   "execution_count": 24,
   "id": "666cdfb2",
   "metadata": {},
   "outputs": [
    {
     "name": "stdout",
     "output_type": "stream",
     "text": [
      "itemnames\n",
      "   item_id          item_name\n",
      "0     1001              Boots\n",
      "1     1004       Faerie Charm\n",
      "2     1006  Rejuvenation Bead\n",
      "3     1011       Giant's Belt\n",
      "4     1018   Cloak of Agility\n",
      "(439, 2)\n"
     ]
    }
   ],
   "source": [
    "itemnames.item_name.replace({r'[^\\x00-\\x7F]+':''}, regex=True, inplace=True)\n",
    "itemnames['item_name']=itemnames['item_name'].str.replace(',','')\n",
    "itemnames['item_name']=itemnames['item_name'].str.replace('\"','')\n",
    "print(\"itemnames\")\n",
    "print(itemnames.head())\n",
    "print(itemnames.shape)"
   ]
  },
  {
   "cell_type": "code",
   "execution_count": 29,
   "id": "891f4044",
   "metadata": {},
   "outputs": [
    {
     "name": "stdout",
     "output_type": "stream",
     "text": [
      "   id  championid     name  win  item1  item2  item3  item4  item5\n",
      "0   9          19  Warwick    0   3748   2003   3111   3053   1419\n",
      "1  28          19  Warwick    1   3748   3155   3133      0   1419\n",
      "2  41          19  Warwick    0   3153   1028   3077   3053   1419\n",
      "3  55          19  Warwick    1   3153   3052   3077   3053   3111\n",
      "4  61          19  Warwick    1   3153   3077   2003   3052   1419\n",
      "(1834517, 9)\n"
     ]
    }
   ],
   "source": [
    "print(comb_champNstats.head())\n",
    "print(comb_champNstats.shape)"
   ]
  },
  {
   "cell_type": "code",
   "execution_count": 38,
   "id": "92e67167",
   "metadata": {},
   "outputs": [
    {
     "name": "stdout",
     "output_type": "stream",
     "text": [
      "        id  championid    name  win           item1                     item2  \\\n",
      "0   716607         150    Gnar    1       Kindlegem             Health Potion   \n",
      "1  1547180         122  Darius    0   Titanic Hydra  Blade of The Ruined King   \n",
      "2   632640         114   Fiora    1  Ravenous Hydra          Vampiric Scepter   \n",
      "3   474618         122  Darius    1  Randuin's Omen          Dead Man's Plate   \n",
      "4  1269648         420  Illaoi    0  Randuin's Omen          Dead Man's Plate   \n",
      "\n",
      "              item3          item4          item5  \n",
      "0  Mercury's Treads  Sterak's Gage  Black Cleaver  \n",
      "1  Mercury's Treads  Sterak's Gage  Black Cleaver  \n",
      "2  Mercury's Treads  Sterak's Gage  Black Cleaver  \n",
      "3  Mercury's Treads  Sterak's Gage  Black Cleaver  \n",
      "4  Mercury's Treads  Sterak's Gage  Black Cleaver  \n",
      "(771962, 9)\n"
     ]
    }
   ],
   "source": [
    "# item 1\n",
    "test1 = pd.merge(comb_champNstats, itemnames, left_on='item1', right_on='item_id')\n",
    "test1 = test1.drop(['item1', 'item_id'], axis=1)\n",
    "test1.rename(columns={'item_name': 'item1'}, inplace=True)\n",
    "\n",
    "# item 2\n",
    "test1 = pd.merge(test1, itemnames, left_on='item2', right_on='item_id')\n",
    "test1 = test1.drop(['item2', 'item_id'], axis=1)\n",
    "test1.rename(columns={'item_name': 'item2'}, inplace=True)\n",
    "\n",
    "\n",
    "# item 3\n",
    "test1 = pd.merge(test1, itemnames, left_on='item3', right_on='item_id')\n",
    "test1 = test1.drop(['item3', 'item_id'], axis=1)\n",
    "test1.rename(columns={'item_name': 'item3'}, inplace=True)\n",
    "\n",
    "# item 4\n",
    "test1 = pd.merge(test1, itemnames, left_on='item4', right_on='item_id')\n",
    "test1 = test1.drop(['item4', 'item_id'], axis=1)\n",
    "test1.rename(columns={'item_name': 'item4'}, inplace=True)\n",
    "\n",
    "# item 5\n",
    "test1 = pd.merge(test1, itemnames, left_on='item5', right_on='item_id')\n",
    "test1 = test1.drop(['item5', 'item_id'], axis=1)\n",
    "test1.rename(columns={'item_name': 'item5'}, inplace=True)\n",
    "\n",
    "\n",
    "print(test1.head())\n",
    "print(test1.shape)"
   ]
  },
  {
   "cell_type": "code",
   "execution_count": 40,
   "id": "10a8c0bd",
   "metadata": {},
   "outputs": [
    {
     "name": "stdout",
     "output_type": "stream",
     "text": [
      "            item1                     item2             item3          item4  \\\n",
      "0       Kindlegem             Health Potion  Mercury's Treads  Sterak's Gage   \n",
      "1   Titanic Hydra  Blade of The Ruined King  Mercury's Treads  Sterak's Gage   \n",
      "2  Ravenous Hydra          Vampiric Scepter  Mercury's Treads  Sterak's Gage   \n",
      "3  Randuin's Omen          Dead Man's Plate  Mercury's Treads  Sterak's Gage   \n",
      "4  Randuin's Omen          Dead Man's Plate  Mercury's Treads  Sterak's Gage   \n",
      "\n",
      "           item5  \n",
      "0  Black Cleaver  \n",
      "1  Black Cleaver  \n",
      "2  Black Cleaver  \n",
      "3  Black Cleaver  \n",
      "4  Black Cleaver  \n",
      "(771962, 5)\n"
     ]
    }
   ],
   "source": [
    "# extract only the items\n",
    "mapped_items = test1.iloc[:, 4:9]\n",
    "print(mapped_items.head())\n",
    "print(mapped_items.shape)"
   ]
  },
  {
   "cell_type": "code",
   "execution_count": 41,
   "id": "159f4ae8",
   "metadata": {},
   "outputs": [],
   "source": [
    "# export items as a txt\n",
    "mapped_items.to_csv(r'league_named.txt', header=None, index=None, sep=',', mode='a')"
   ]
  },
  {
   "cell_type": "code",
   "execution_count": 1,
   "id": "e1038e45",
   "metadata": {},
   "outputs": [],
   "source": [
    "import re\n",
    "\n",
    "# Open the input file for reading\n",
    "input_file = \"league_named.txt\"\n",
    "mid_file = \"temp1.txt\"\n",
    "output_file = \"league_clean.txt\"\n",
    "\n",
    "with open(input_file, \"r\") as file:\n",
    "    file_contents = file.read()\n",
    "\n",
    "# Define a regular expression pattern to find and replace consecutive commas with just one comma\n",
    "pattern = re.compile(r',+,')\n",
    "replacement = ','\n",
    "\n",
    "# Use the sub() function to replace the pattern with the replacement\n",
    "cleaned_contents = re.sub(pattern, replacement, file_contents)\n",
    "\n",
    "# Open the output file for writing and write the cleaned contents\n",
    "with open(mid_file, \"w\") as file:\n",
    "    file.write(cleaned_contents)\n",
    "    \n",
    "with open(mid_file, 'r') as infile, open(output_file, 'w') as outfile:\n",
    "    for line in infile:\n",
    "        # Remove the trailing comma if it exists\n",
    "        line = line.rstrip(',\\n')\n",
    "        # Write the modified line to the output file\n",
    "        outfile.write(line + '\\n')"
   ]
  },
  {
   "cell_type": "code",
   "execution_count": null,
   "id": "b88d86b6",
   "metadata": {},
   "outputs": [],
   "source": []
  }
 ],
 "metadata": {
  "kernelspec": {
   "display_name": "Python 3 (ipykernel)",
   "language": "python",
   "name": "python3"
  },
  "language_info": {
   "codemirror_mode": {
    "name": "ipython",
    "version": 3
   },
   "file_extension": ".py",
   "mimetype": "text/x-python",
   "name": "python",
   "nbconvert_exporter": "python",
   "pygments_lexer": "ipython3",
   "version": "3.10.9"
  }
 },
 "nbformat": 4,
 "nbformat_minor": 5
}
