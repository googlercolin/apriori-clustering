{
 "cells": [
  {
   "cell_type": "code",
   "execution_count": 3,
   "id": "a9cd60c7",
   "metadata": {},
   "outputs": [],
   "source": [
    "from apyori import apriori, dump_as_json, load_transactions\n",
    "import sys\n",
    "import matplotlib.pyplot as plt\n",
    "import time"
   ]
  },
  {
   "cell_type": "code",
   "execution_count": 4,
   "id": "0d0193a1",
   "metadata": {},
   "outputs": [],
   "source": [
    "def plot_results(minsup_range, runtimes, num_frequent_itemsets, dataset_name):\n",
    "    plt.figure(figsize=(12, 6))\n",
    "\n",
    "    # Plot minsup vs. runtime\n",
    "    plt.subplot(1, 2, 1)\n",
    "    plt.plot(minsup_range, runtimes, marker='o')\n",
    "    plt.title('minsup vs. Algorithm Runtime')\n",
    "    plt.xlabel('minsup')\n",
    "    plt.ylabel('Runtime (seconds)')\n",
    "\n",
    "    # Plot minsup vs. number of frequent itemsets\n",
    "    plt.subplot(1, 2, 2)\n",
    "    plt.plot(minsup_range, num_frequent_itemsets, marker='o')\n",
    "    plt.title('minsup vs. Number of Frequent Itemsets')\n",
    "    plt.xlabel('minsup')\n",
    "    plt.ylabel('Number of Frequent Itemsets')\n",
    "\n",
    "    plt.tight_layout()\n",
    "    \n",
    "    result_file = f\"result_{dataset_name}.png\"\n",
    "    plt.savefig(result_file)\n",
    "    plt.show()"
   ]
  },
  {
   "cell_type": "code",
   "execution_count": null,
   "id": "752bb3c2",
   "metadata": {},
   "outputs": [],
   "source": []
  },
  {
   "cell_type": "markdown",
   "id": "61ed79e3",
   "metadata": {},
   "source": [
    "-------\n",
    "# min-sup Threshold Analysis"
   ]
  },
  {
   "cell_type": "code",
   "execution_count": 24,
   "id": "9e7f97e1",
   "metadata": {},
   "outputs": [],
   "source": [
    "# Results storage\n",
    "com_runtimes_range = []\n",
    "com_num_frequent_itemsets_range = []\n",
    "com_minsup_range = [0.00002, 0.00004, 0.00006, 0.00008, 0.0001, 0.0002, 0.0004, 0.0006, 0.0008, 0.001, 0.0012, 0.0014, 0.0016, 0.0018, 0.0020]\n",
    "\n",
    "runtimes_range1 = []\n",
    "num_frequent_itemsets_range1 = []\n",
    "# minsup_range1 = [0.00002, 0.00004, 0.00006, 0.00008, 0.0001]\n",
    "minsup_range1 = [0.0001, 0.00008, 0.00006, 0.00004, 0.00002]\n",
    "# minsup_range1 = [0.0008, 0.0004, 0.0002, 0.0001, 0.00005]\n",
    "\n",
    "runtimes_range2 = []\n",
    "num_frequent_itemsets_range2 = []\n",
    "minsup_range2 = [0.0002, 0.0004, 0.0006, 0.0008, 0.001]\n",
    "\n",
    "runtimes_range3 = []\n",
    "num_frequent_itemsets_range3 = []\n",
    "minsup_range3 = [0.0012, 0.0014, 0.0016, 0.0018, 0.0020]"
   ]
  },
  {
   "cell_type": "markdown",
   "id": "63c3b012",
   "metadata": {},
   "source": [
    "-----\n",
    "## range1\n",
    "### minsup_range1 = [0.00002, 0.00004, 0.00006, 0.00008, 0.0001]"
   ]
  },
  {
   "cell_type": "code",
   "execution_count": 25,
   "id": "0a3e02ed",
   "metadata": {},
   "outputs": [
    {
     "name": "stdout",
     "output_type": "stream",
     "text": [
      "minsup: 0.01%\n",
      "starting...\n",
      "time taken:4448.38763999939\n",
      "num itemsets: 314\n"
     ]
    }
   ],
   "source": [
    "# minsup = 0.002%\n",
    "fileName = \"subtransactions.txt\"\n",
    "transactions = load_transactions(open(fileName, 'r'), delimiter=',')\n",
    "\n",
    "# minsup_range = [0.00002, 0.00004, 0.00006, 0.00008, 0.0001]\n",
    "minsup = 0.0001\n",
    "\n",
    "print(\"minsup: \" + str(minsup*100) + \"%\")\n",
    "print(\"starting...\")\n",
    "start = time.time()\n",
    "results = list(apriori(transactions, min_support=minsup))\n",
    "end = time.time()\n",
    "\n",
    "print(\"time taken:\" + str(end-start))\n",
    "print(\"num itemsets: \" + str(len(results)))\n",
    "com_runtimes_range.append(end-start)\n",
    "com_num_frequent_itemsets_range.append(len(results))\n",
    "runtimes_range1.append(end-start)\n",
    "num_frequent_itemsets_range1.append(len(results))\n",
    "\n",
    "output_file_path = 'output_' + 'simulatedtxn' + 'point01%.json'\n",
    "# Clear contents\n",
    "open(output_file_path, 'w').close()\n",
    "for record in results:\n",
    "    # dump_as_json(record, sys.stdout)\n",
    "    dump_as_json(record, open(output_file_path, 'a'))"
   ]
  },
  {
   "cell_type": "code",
   "execution_count": 27,
   "id": "e9513167",
   "metadata": {},
   "outputs": [
    {
     "name": "stdout",
     "output_type": "stream",
     "text": [
      "[4448.38763999939]\n"
     ]
    }
   ],
   "source": [
    "print(runtimes_range1)"
   ]
  },
  {
   "cell_type": "code",
   "execution_count": 28,
   "id": "1f7591e7",
   "metadata": {},
   "outputs": [
    {
     "name": "stdout",
     "output_type": "stream",
     "text": [
      "minsup: 0.08%\n",
      "starting...\n",
      "time taken:1257.6569197177887\n",
      "num itemsets: 131\n"
     ]
    }
   ],
   "source": [
    "# minsup = 0.004%\n",
    "fileName = \"subtransactions.txt\"\n",
    "transactions = load_transactions(open(fileName, 'r'), delimiter=',')\n",
    "\n",
    "# minsup_range = [0.00002, 0.00004, 0.00006, 0.00008, 0.0001]\n",
    "minsup = 0.0008\n",
    "\n",
    "print(\"minsup: \" + str(minsup*100) + \"%\")\n",
    "print(\"starting...\")\n",
    "start = time.time()\n",
    "results = list(apriori(transactions, min_support=minsup))\n",
    "end = time.time()\n",
    "\n",
    "print(\"time taken:\" + str(end-start))\n",
    "print(\"num itemsets: \" + str(len(results)))\n",
    "com_runtimes_range.append(end-start)\n",
    "com_num_frequent_itemsets_range.append(len(results))\n",
    "runtimes_range1.append(end-start)\n",
    "num_frequent_itemsets_range1.append(len(results))\n",
    "\n",
    "output_file_path = 'output_' + 'simulatedtxn' + 'point08%.json'\n",
    "# Clear contents\n",
    "open(output_file_path, 'w').close()\n",
    "for record in results:\n",
    "    # dump_as_json(record, sys.stdout)\n",
    "    dump_as_json(record, open(output_file_path, 'a'))"
   ]
  },
  {
   "cell_type": "code",
   "execution_count": 29,
   "id": "227fb21d",
   "metadata": {},
   "outputs": [
    {
     "name": "stdout",
     "output_type": "stream",
     "text": [
      "minsup: 0.005%\n",
      "starting...\n",
      "time taken:6459.279353141785\n",
      "num itemsets: 405\n"
     ]
    }
   ],
   "source": [
    "# minsup = 0.006%\n",
    "fileName = \"subtransactions.txt\"\n",
    "transactions = load_transactions(open(fileName, 'r'), delimiter=',')\n",
    "\n",
    "# minsup_range = [0.00002, 0.00004, 0.00006, 0.00008, 0.0001]\n",
    "minsup = 0.00005\n",
    "\n",
    "print(\"minsup: \" + str(minsup*100) + \"%\")\n",
    "print(\"starting...\")\n",
    "start = time.time()\n",
    "results = list(apriori(transactions, min_support=minsup))\n",
    "end = time.time()\n",
    "\n",
    "print(\"time taken:\" + str(end-start))\n",
    "print(\"num itemsets: \" + str(len(results)))\n",
    "com_runtimes_range.append(end-start)\n",
    "com_num_frequent_itemsets_range.append(len(results))\n",
    "runtimes_range1.append(end-start)\n",
    "num_frequent_itemsets_range1.append(len(results))\n",
    "\n",
    "output_file_path = 'output_' + 'simulatedtxn' + 'point005%.json'\n",
    "# Clear contents\n",
    "open(output_file_path, 'w').close()\n",
    "for record in results:\n",
    "    # dump_as_json(record, sys.stdout)\n",
    "    dump_as_json(record, open(output_file_path, 'a'))"
   ]
  },
  {
   "cell_type": "code",
   "execution_count": 30,
   "id": "12c97e9a",
   "metadata": {},
   "outputs": [
    {
     "name": "stdout",
     "output_type": "stream",
     "text": [
      "minsup: 0.02%\n",
      "starting...\n",
      "time taken:3261.7191774845123\n",
      "num itemsets: 241\n"
     ]
    }
   ],
   "source": [
    "# minsup = 0.008%\n",
    "fileName = \"subtransactions.txt\"\n",
    "transactions = load_transactions(open(fileName, 'r'), delimiter=',')\n",
    "\n",
    "# minsup_range = [0.00002, 0.00004, 0.00006, 0.00008, 0.0001]\n",
    "minsup = 0.0002\n",
    "\n",
    "print(\"minsup: \" + str(minsup*100) + \"%\")\n",
    "print(\"starting...\")\n",
    "start = time.time()\n",
    "results = list(apriori(transactions, min_support=minsup))\n",
    "end = time.time()\n",
    "\n",
    "print(\"time taken:\" + str(end-start))\n",
    "print(\"num itemsets: \" + str(len(results)))\n",
    "com_runtimes_range.append(end-start)\n",
    "com_num_frequent_itemsets_range.append(len(results))\n",
    "runtimes_range1.append(end-start)\n",
    "num_frequent_itemsets_range1.append(len(results))\n",
    "\n",
    "output_file_path = 'output_' + 'simulatedtxn' + 'point02%.json'\n",
    "# Clear contents\n",
    "open(output_file_path, 'w').close()\n",
    "for record in results:\n",
    "    # dump_as_json(record, sys.stdout)\n",
    "    dump_as_json(record, open(output_file_path, 'a'))"
   ]
  },
  {
   "cell_type": "code",
   "execution_count": 31,
   "id": "696487be",
   "metadata": {},
   "outputs": [
    {
     "name": "stdout",
     "output_type": "stream",
     "text": [
      "minsup: 0.04%\n",
      "starting...\n",
      "time taken:1752.4086029529572\n",
      "num itemsets: 181\n"
     ]
    }
   ],
   "source": [
    "# minsup = 0.01%\n",
    "fileName = \"subtransactions.txt\"\n",
    "transactions = load_transactions(open(fileName, 'r'), delimiter=',')\n",
    "\n",
    "# minsup_range = [0.00002, 0.00004, 0.00006, 0.00008, 0.0001]\n",
    "minsup = 0.0004\n",
    "\n",
    "print(\"minsup: \" + str(minsup*100) + \"%\")\n",
    "print(\"starting...\")\n",
    "start = time.time()\n",
    "results = list(apriori(transactions, min_support=minsup))\n",
    "end = time.time()\n",
    "\n",
    "print(\"time taken:\" + str(end-start))\n",
    "print(\"num itemsets: \" + str(len(results)))\n",
    "com_runtimes_range.append(end-start)\n",
    "com_num_frequent_itemsets_range.append(len(results))\n",
    "runtimes_range1.append(end-start)\n",
    "num_frequent_itemsets_range1.append(len(results))\n",
    "\n",
    "output_file_path = 'output_' + 'simulatedtxn' + 'point04%.json'\n",
    "# Clear contents\n",
    "open(output_file_path, 'w').close()\n",
    "for record in results:\n",
    "    # dump_as_json(record, sys.stdout)\n",
    "    dump_as_json(record, open(output_file_path, 'a'))"
   ]
  },
  {
   "cell_type": "code",
   "execution_count": 32,
   "id": "ec503b72",
   "metadata": {},
   "outputs": [
    {
     "name": "stdout",
     "output_type": "stream",
     "text": [
      "[4448.38763999939, 1257.6569197177887, 6459.279353141785, 3261.7191774845123, 1752.4086029529572]\n",
      "[314, 131, 405, 241, 181]\n"
     ]
    }
   ],
   "source": [
    "print(runtimes_range1)\n",
    "print(num_frequent_itemsets_range1)"
   ]
  },
  {
   "cell_type": "code",
   "execution_count": 36,
   "id": "b000470e",
   "metadata": {},
   "outputs": [
    {
     "data": {
      "image/png": "[encoded data removed]",
      "text/plain": [
       "<Figure size 1200x600 with 2 Axes>"
      ]
     },
     "metadata": {},
     "output_type": "display_data"
    }
   ],
   "source": [
    "# range alone\n",
    "minsup_range1_manual = [0.0008, 0.0004, 0.0002, 0.0001, 0.00005]\n",
    "runtimes_range1_manual = [1257.6569197177887, 1752.4086029529572, 3261.7191774845123, 4448.38763999939, 6459.279353141785]\n",
    "num_frequent_itemsets_range1_manual = [131, 181, 241, 314, 405]\n",
    "plot_results(minsup_range1_manual, runtimes_range1_manual, num_frequent_itemsets_range1_manual, \"simulatedtxn\")"
   ]
  }
 ],
 "metadata": {
  "kernelspec": {
   "display_name": "Python 3 (ipykernel)",
   "language": "python",
   "name": "python3"
  },
  "language_info": {
   "codemirror_mode": {
    "name": "ipython",
    "version": 3
   },
   "file_extension": ".py",
   "mimetype": "text/x-python",
   "name": "python",
   "nbconvert_exporter": "python",
   "pygments_lexer": "ipython3",
   "version": "3.10.9"
  }
 },
 "nbformat": 4,
 "nbformat_minor": 5
}
